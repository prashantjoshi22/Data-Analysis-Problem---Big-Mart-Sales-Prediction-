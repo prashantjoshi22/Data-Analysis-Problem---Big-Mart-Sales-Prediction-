{
 "cells": [
  {
   "cell_type": "code",
   "execution_count": 70,
   "metadata": {
    "collapsed": false
   },
   "outputs": [],
   "source": [
    "import pandas as pd\n",
    "from scipy import stats\n",
    "from scipy.stats import mode\n",
    "salesdata = pd.read_csv('/home/prashant/Desktop/competation/bigmartsales.csv')\n"
   ]
  },
  {
   "cell_type": "code",
   "execution_count": 71,
   "metadata": {
    "collapsed": false
   },
   "outputs": [
    {
     "data": {
      "text/plain": [
       "Item_Identifier                 0\n",
       "Item_Weight                  1463\n",
       "Item_Fat_Content                0\n",
       "Item_Visibility                 0\n",
       "Item_Type                       0\n",
       "Item_MRP                        0\n",
       "Outlet_Identifier               0\n",
       "Outlet_Establishment_Year       0\n",
       "Outlet_Size                  2410\n",
       "Outlet_Location_Type            0\n",
       "Outlet_Type                     0\n",
       "Item_Outlet_Sales               0\n",
       "dtype: int64"
      ]
     },
     "execution_count": 71,
     "metadata": {},
     "output_type": "execute_result"
    }
   ],
   "source": [
    "salesdata.isnull().sum()"
   ]
  },
  {
   "cell_type": "code",
   "execution_count": 72,
   "metadata": {
    "collapsed": false
   },
   "outputs": [
    {
     "name": "stdout",
     "output_type": "stream",
     "text": [
      "0    0.0\n",
      "1    0.0\n",
      "2    0.0\n",
      "3    NaN\n",
      "4    1.0\n",
      "Name: Outlet_Size, dtype: float64\n"
     ]
    }
   ],
   "source": [
    "#Converting catagorical values of 'Outlet_Size' to Integer Values\n",
    "cat_dict ={}\n",
    "unique_outlet_size_val = salesdata.Outlet_Size.dropna().unique()\n",
    "copy_outlet_size = salesdata.Outlet_Size.dropna()\n",
    "count =0\n",
    "for val in unique_outlet_size_val:\n",
    "    cat_dict[val] =int(count)\n",
    "    count =count+1\n",
    "salesdata['Outlet_Size'] =copy_outlet_size.apply(lambda x :cat_dict[x])\n",
    "print(salesdata.Outlet_Size.head())"
   ]
  },
  {
   "cell_type": "code",
   "execution_count": 74,
   "metadata": {
    "collapsed": false,
    "scrolled": false
   },
   "outputs": [
    {
     "name": "stdout",
     "output_type": "stream",
     "text": [
      "missing values in Outlet_size Item_Identifier                 0\n",
      "Item_Weight                  1463\n",
      "Item_Fat_Content                0\n",
      "Item_Visibility                 0\n",
      "Item_Type                       0\n",
      "Item_MRP                        0\n",
      "Outlet_Identifier               0\n",
      "Outlet_Establishment_Year       0\n",
      "Outlet_Size                     0\n",
      "Outlet_Location_Type            0\n",
      "Outlet_Type                     0\n",
      "Item_Outlet_Sales               0\n",
      "dtype: int64\n"
     ]
    }
   ],
   "source": [
    "#calculating mode of the column Outlet_Size and mapping each mode to its Outlet_Type\n",
    "mode_fn =salesdata.pivot_table(columns ='Outlet_Type',values = 'Outlet_Size',aggfunc = (lambda x : (mode(x).mode[0]))).astype(int) \n",
    "\n",
    "miss_val = salesdata.Outlet_Size.isnull()\n",
    "#print(miss_val)\n",
    "#print(salesdata.loc[miss_val,'Outlet_Type'])\n",
    "salesdata.loc[miss_val,'Outlet_Size'] = salesdata.loc[miss_val,'Outlet_Type'].apply(lambda x : mode_fn[x])\n",
    "print('missing values in Outlet_size %s'%salesdata.isnull().sum())"
   ]
  },
  {
   "cell_type": "code",
   "execution_count": 69,
   "metadata": {
    "collapsed": false
   },
   "outputs": [
    {
     "data": {
      "text/plain": [
       "Item_Identifier              0\n",
       "Item_Weight                  0\n",
       "Item_Fat_Content             0\n",
       "Item_Visibility              0\n",
       "Item_Type                    0\n",
       "Item_MRP                     0\n",
       "Outlet_Identifier            0\n",
       "Outlet_Establishment_Year    0\n",
       "Outlet_Size                  0\n",
       "Outlet_Location_Type         0\n",
       "Outlet_Type                  0\n",
       "Item_Outlet_Sales            0\n",
       "dtype: int64"
      ]
     },
     "execution_count": 69,
     "metadata": {},
     "output_type": "execute_result"
    }
   ],
   "source": [
    "#Filling missing data for 'Item_Weight' feild\n",
    "avg_item_weight = salesdata.pivot_table(index = 'Item_Identifier',values ='Item_Weight')\n",
    "avg_item_weight\n",
    "miss_weight = salesdata.Item_Weight.isnull()\n",
    "salesdata.loc[miss_weight , 'Item_Weight'] = salesdata.loc[miss_weight,'Item_Identifier'].apply(lambda x : avg_item_weight[x])\n",
    "salesdata= salesdata.dropna()\n",
    "salesdata.isnull().sum()\n",
    "\n"
   ]
  },
  {
   "cell_type": "code",
   "execution_count": null,
   "metadata": {
    "collapsed": true
   },
   "outputs": [],
   "source": []
  }
 ],
 "metadata": {
  "anaconda-cloud": {},
  "kernelspec": {
   "display_name": "Python [conda root]",
   "language": "python",
   "name": "conda-root-py"
  },
  "language_info": {
   "codemirror_mode": {
    "name": "ipython",
    "version": 3
   },
   "file_extension": ".py",
   "mimetype": "text/x-python",
   "name": "python",
   "nbconvert_exporter": "python",
   "pygments_lexer": "ipython3",
   "version": "3.5.2"
  }
 },
 "nbformat": 4,
 "nbformat_minor": 1
}
