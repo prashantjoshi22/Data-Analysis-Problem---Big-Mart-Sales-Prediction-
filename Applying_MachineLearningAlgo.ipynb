{
 "cells": [
  {
   "cell_type": "code",
   "execution_count": 1,
   "metadata": {
    "collapsed": true
   },
   "outputs": [],
   "source": [
    "import pandas as pd\n",
    "\n"
   ]
  },
  {
   "cell_type": "code",
   "execution_count": 2,
   "metadata": {
    "collapsed": true
   },
   "outputs": [],
   "source": [
    "train = pd.read_csv(\"train_modified.csv\")\n",
    "test= pd.read_csv(\"test_modified.csv\")\n",
    "\n"
   ]
  },
  {
   "cell_type": "code",
   "execution_count": 8,
   "metadata": {
    "collapsed": false
   },
   "outputs": [
    {
     "data": {
      "text/plain": [
       "Item_Identifier            object\n",
       "Item_MRP                  float64\n",
       "Item_Outlet_Sales         float64\n",
       "Item_Visibility           float64\n",
       "Item_Weight               float64\n",
       "Outlet_Identifier          object\n",
       "total_years                 int64\n",
       "Item_Fat_Content_0        float64\n",
       "Item_Fat_Content_1        float64\n",
       "Outlet_Location_Type_0    float64\n",
       "Outlet_Location_Type_1    float64\n",
       "Outlet_Location_Type_2    float64\n",
       "Outlet_Size_0             float64\n",
       "Outlet_Size_1             float64\n",
       "Outlet_Size_2             float64\n",
       "Outlet_Type_0             float64\n",
       "Outlet_Type_1             float64\n",
       "Outlet_Type_2             float64\n",
       "Outlet_Type_3             float64\n",
       "represent_food_0          float64\n",
       "represent_food_1          float64\n",
       "represent_food_2          float64\n",
       "Outlet_0                  float64\n",
       "Outlet_1                  float64\n",
       "Outlet_2                  float64\n",
       "Outlet_3                  float64\n",
       "Outlet_4                  float64\n",
       "Outlet_5                  float64\n",
       "Outlet_6                  float64\n",
       "Outlet_7                  float64\n",
       "Outlet_8                  float64\n",
       "Outlet_9                  float64\n",
       "dtype: object"
      ]
     },
     "execution_count": 8,
     "metadata": {},
     "output_type": "execute_result"
    }
   ],
   "source": [
    "\n",
    "train.dtypes"
   ]
  },
  {
   "cell_type": "code",
   "execution_count": 10,
   "metadata": {
    "collapsed": true
   },
   "outputs": [],
   "source": [
    "target = 'Item_Outlet_Sales'\n",
    "col = ['Item_Identifier','Outlet_Identifier']\n"
   ]
  },
  {
   "cell_type": "code",
   "execution_count": 13,
   "metadata": {
    "collapsed": false
   },
   "outputs": [],
   "source": [
    "from sklearn import cross_validation,metrics\n",
    "\n",
    "def modeling(alg ,train,test,predictors,target,col,filename):\n",
    "    \n",
    "    #Fitting the data into the algo \n",
    "    alg.fit(train[predictors],train[target])\n",
    "    \n",
    "    \n",
    "    #Predicting the train data sales with the model\n",
    "    train_predictions = alg.predict(train[predictors])\n",
    "    \n",
    "    \n"
   ]
  }
 ],
 "metadata": {
  "kernelspec": {
   "display_name": "Python [conda root]",
   "language": "python",
   "name": "conda-root-py"
  },
  "language_info": {
   "codemirror_mode": {
    "name": "ipython",
    "version": 3
   },
   "file_extension": ".py",
   "mimetype": "text/x-python",
   "name": "python",
   "nbconvert_exporter": "python",
   "pygments_lexer": "ipython3",
   "version": "3.5.2"
  }
 },
 "nbformat": 4,
 "nbformat_minor": 1
}
