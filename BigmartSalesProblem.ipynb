{
 "cells": [
  {
   "cell_type": "code",
   "execution_count": 186,
   "metadata": {
    "collapsed": false
   },
   "outputs": [],
   "source": [
    "import pandas as pd\n",
    "from scipy import stats\n",
    "from scipy.stats import mode\n",
    "from sklearn.preprocessing import LabelEncoder\n",
    "\n",
    "train = pd.read_csv('/home/prashant/Desktop/competation/bigmartsales.csv')\n",
    "test = pd.read_csv('/home/prashant/Desktop/competation/bigmartsales2.csv')"
   ]
  },
  {
   "cell_type": "code",
   "execution_count": 187,
   "metadata": {
    "collapsed": true
   },
   "outputs": [],
   "source": [
    "train['source']='train'\n",
    "test['source']='test'\n",
    "salesdata = pd.concat([train, test],ignore_index=True)"
   ]
  },
  {
   "cell_type": "code",
   "execution_count": 188,
   "metadata": {
    "collapsed": false
   },
   "outputs": [
    {
     "data": {
      "text/plain": [
       "Item_Fat_Content                0\n",
       "Item_Identifier                 0\n",
       "Item_MRP                        0\n",
       "Item_Outlet_Sales            5681\n",
       "Item_Type                       0\n",
       "Item_Visibility                 0\n",
       "Item_Weight                  2439\n",
       "Outlet_Establishment_Year       0\n",
       "Outlet_Identifier               0\n",
       "Outlet_Location_Type            0\n",
       "Outlet_Size                  4016\n",
       "Outlet_Type                     0\n",
       "source                          0\n",
       "dtype: int64"
      ]
     },
     "execution_count": 188,
     "metadata": {},
     "output_type": "execute_result"
    }
   ],
   "source": [
    "salesdata.isnull().sum()"
   ]
  },
  {
   "cell_type": "code",
   "execution_count": 189,
   "metadata": {
    "collapsed": false
   },
   "outputs": [],
   "source": [
    "#Converting catagorical values of 'Outlet_Size' to Integer Values\n",
    "cat_dict ={}\n",
    "unique_outlet_size_val = salesdata.Outlet_Size.dropna().unique()\n",
    "copy_outlet_size = salesdata.Outlet_Size.dropna()\n",
    "count =0\n",
    "for val in unique_outlet_size_val:\n",
    "    cat_dict[val] =int(count)\n",
    "    count =count+1\n",
    "salesdata['Outlet_Size'] =copy_outlet_size.apply(lambda x :cat_dict[x])\n"
   ]
  },
  {
   "cell_type": "code",
   "execution_count": 190,
   "metadata": {
    "collapsed": false,
    "scrolled": false
   },
   "outputs": [
    {
     "name": "stdout",
     "output_type": "stream",
     "text": [
      "missing values in Outlet_size Item_Fat_Content                0\n",
      "Item_Identifier                 0\n",
      "Item_MRP                        0\n",
      "Item_Outlet_Sales            5681\n",
      "Item_Type                       0\n",
      "Item_Visibility                 0\n",
      "Item_Weight                  2439\n",
      "Outlet_Establishment_Year       0\n",
      "Outlet_Identifier               0\n",
      "Outlet_Location_Type            0\n",
      "Outlet_Size                     0\n",
      "Outlet_Type                     0\n",
      "source                          0\n",
      "dtype: int64\n"
     ]
    }
   ],
   "source": [
    "#calculating mode of the column Outlet_Size and mapping each mode to its Outlet_Type\n",
    "mode_fn =salesdata.pivot_table(columns ='Outlet_Type',values = 'Outlet_Size',aggfunc = (lambda x : (mode(x).mode[0]))).astype(int) \n",
    "\n",
    "miss_val = salesdata.Outlet_Size.isnull()\n",
    "#print(miss_val)\n",
    "#print(salesdata.loc[miss_val,'Outlet_Type'])\n",
    "salesdata.loc[miss_val,'Outlet_Size'] = salesdata.loc[miss_val,'Outlet_Type'].apply(lambda x : mode_fn[x])\n",
    "print('missing values in Outlet_size %s'%salesdata.isnull().sum())"
   ]
  },
  {
   "cell_type": "code",
   "execution_count": 191,
   "metadata": {
    "collapsed": false
   },
   "outputs": [
    {
     "data": {
      "text/plain": [
       "Item_Fat_Content                0\n",
       "Item_Identifier                 0\n",
       "Item_MRP                        0\n",
       "Item_Outlet_Sales            5681\n",
       "Item_Type                       0\n",
       "Item_Visibility                 0\n",
       "Item_Weight                     0\n",
       "Outlet_Establishment_Year       0\n",
       "Outlet_Identifier               0\n",
       "Outlet_Location_Type            0\n",
       "Outlet_Size                     0\n",
       "Outlet_Type                     0\n",
       "source                          0\n",
       "dtype: int64"
      ]
     },
     "execution_count": 191,
     "metadata": {},
     "output_type": "execute_result"
    }
   ],
   "source": [
    "#Filling missing data for 'Item_Weight' feild\n",
    "avg_item_weight = salesdata.pivot_table(index = 'Item_Identifier',values ='Item_Weight')\n",
    "avg_item_weight\n",
    "miss_weight = salesdata.Item_Weight.isnull()\n",
    "salesdata.loc[miss_weight , 'Item_Weight'] = salesdata.loc[miss_weight,'Item_Identifier'].apply(lambda x : avg_item_weight[x])\n",
    "\n",
    "salesdata.isnull().sum()\n",
    "\n"
   ]
  },
  {
   "cell_type": "code",
   "execution_count": null,
   "metadata": {
    "collapsed": true
   },
   "outputs": [],
   "source": []
  },
  {
   "cell_type": "code",
   "execution_count": 192,
   "metadata": {
    "collapsed": false
   },
   "outputs": [
    {
     "data": {
      "text/html": [
       "<div>\n",
       "<table border=\"1\" class=\"dataframe\">\n",
       "  <thead>\n",
       "    <tr style=\"text-align: right;\">\n",
       "      <th></th>\n",
       "      <th>Item_Fat_Content</th>\n",
       "      <th>Item_Identifier</th>\n",
       "      <th>Item_MRP</th>\n",
       "      <th>Item_Outlet_Sales</th>\n",
       "      <th>Item_Type</th>\n",
       "      <th>Item_Visibility</th>\n",
       "      <th>Item_Weight</th>\n",
       "      <th>Outlet_Establishment_Year</th>\n",
       "      <th>Outlet_Identifier</th>\n",
       "      <th>Outlet_Location_Type</th>\n",
       "      <th>Outlet_Size</th>\n",
       "      <th>Outlet_Type</th>\n",
       "      <th>source</th>\n",
       "    </tr>\n",
       "  </thead>\n",
       "  <tbody>\n",
       "    <tr>\n",
       "      <th>0</th>\n",
       "      <td>Low Fat</td>\n",
       "      <td>FDA15</td>\n",
       "      <td>249.8092</td>\n",
       "      <td>3735.1380</td>\n",
       "      <td>Dairy</td>\n",
       "      <td>0.016047</td>\n",
       "      <td>9.30</td>\n",
       "      <td>1999</td>\n",
       "      <td>OUT049</td>\n",
       "      <td>Tier 1</td>\n",
       "      <td>0.0</td>\n",
       "      <td>Supermarket Type1</td>\n",
       "      <td>train</td>\n",
       "    </tr>\n",
       "    <tr>\n",
       "      <th>1</th>\n",
       "      <td>Regular</td>\n",
       "      <td>DRC01</td>\n",
       "      <td>48.2692</td>\n",
       "      <td>443.4228</td>\n",
       "      <td>Soft Drinks</td>\n",
       "      <td>0.019278</td>\n",
       "      <td>5.92</td>\n",
       "      <td>2009</td>\n",
       "      <td>OUT018</td>\n",
       "      <td>Tier 3</td>\n",
       "      <td>0.0</td>\n",
       "      <td>Supermarket Type2</td>\n",
       "      <td>train</td>\n",
       "    </tr>\n",
       "    <tr>\n",
       "      <th>2</th>\n",
       "      <td>Low Fat</td>\n",
       "      <td>FDN15</td>\n",
       "      <td>141.6180</td>\n",
       "      <td>2097.2700</td>\n",
       "      <td>Meat</td>\n",
       "      <td>0.016760</td>\n",
       "      <td>17.50</td>\n",
       "      <td>1999</td>\n",
       "      <td>OUT049</td>\n",
       "      <td>Tier 1</td>\n",
       "      <td>0.0</td>\n",
       "      <td>Supermarket Type1</td>\n",
       "      <td>train</td>\n",
       "    </tr>\n",
       "    <tr>\n",
       "      <th>3</th>\n",
       "      <td>Regular</td>\n",
       "      <td>FDX07</td>\n",
       "      <td>182.0950</td>\n",
       "      <td>732.3800</td>\n",
       "      <td>Fruits and Vegetables</td>\n",
       "      <td>0.000000</td>\n",
       "      <td>19.20</td>\n",
       "      <td>1998</td>\n",
       "      <td>OUT010</td>\n",
       "      <td>Tier 3</td>\n",
       "      <td>2.0</td>\n",
       "      <td>Grocery Store</td>\n",
       "      <td>train</td>\n",
       "    </tr>\n",
       "    <tr>\n",
       "      <th>4</th>\n",
       "      <td>Low Fat</td>\n",
       "      <td>NCD19</td>\n",
       "      <td>53.8614</td>\n",
       "      <td>994.7052</td>\n",
       "      <td>Household</td>\n",
       "      <td>0.000000</td>\n",
       "      <td>8.93</td>\n",
       "      <td>1987</td>\n",
       "      <td>OUT013</td>\n",
       "      <td>Tier 3</td>\n",
       "      <td>1.0</td>\n",
       "      <td>Supermarket Type1</td>\n",
       "      <td>train</td>\n",
       "    </tr>\n",
       "  </tbody>\n",
       "</table>\n",
       "</div>"
      ],
      "text/plain": [
       "  Item_Fat_Content Item_Identifier  Item_MRP  Item_Outlet_Sales  \\\n",
       "0          Low Fat           FDA15  249.8092          3735.1380   \n",
       "1          Regular           DRC01   48.2692           443.4228   \n",
       "2          Low Fat           FDN15  141.6180          2097.2700   \n",
       "3          Regular           FDX07  182.0950           732.3800   \n",
       "4          Low Fat           NCD19   53.8614           994.7052   \n",
       "\n",
       "               Item_Type  Item_Visibility  Item_Weight  \\\n",
       "0                  Dairy         0.016047         9.30   \n",
       "1            Soft Drinks         0.019278         5.92   \n",
       "2                   Meat         0.016760        17.50   \n",
       "3  Fruits and Vegetables         0.000000        19.20   \n",
       "4              Household         0.000000         8.93   \n",
       "\n",
       "   Outlet_Establishment_Year Outlet_Identifier Outlet_Location_Type  \\\n",
       "0                       1999            OUT049               Tier 1   \n",
       "1                       2009            OUT018               Tier 3   \n",
       "2                       1999            OUT049               Tier 1   \n",
       "3                       1998            OUT010               Tier 3   \n",
       "4                       1987            OUT013               Tier 3   \n",
       "\n",
       "   Outlet_Size        Outlet_Type source  \n",
       "0          0.0  Supermarket Type1  train  \n",
       "1          0.0  Supermarket Type2  train  \n",
       "2          0.0  Supermarket Type1  train  \n",
       "3          2.0      Grocery Store  train  \n",
       "4          1.0  Supermarket Type1  train  "
      ]
     },
     "execution_count": 192,
     "metadata": {},
     "output_type": "execute_result"
    }
   ],
   "source": [
    "salesdata.head()"
   ]
  },
  {
   "cell_type": "code",
   "execution_count": 193,
   "metadata": {
    "collapsed": false
   },
   "outputs": [
    {
     "data": {
      "text/plain": [
       "Low Fat    9185\n",
       "Regular    5019\n",
       "Name: Item_Fat_Content, dtype: int64"
      ]
     },
     "execution_count": 193,
     "metadata": {},
     "output_type": "execute_result"
    }
   ],
   "source": [
    "#filling Item_fat_content effectively\n",
    "\n",
    "salesdata.Item_Fat_Content = salesdata.Item_Fat_Content.replace({ 'LF':'Low Fat','reg':'Regular','low fat':'Low Fat'})\n",
    "salesdata.Item_Fat_Content.value_counts()"
   ]
  },
  {
   "cell_type": "code",
   "execution_count": 194,
   "metadata": {
    "collapsed": false
   },
   "outputs": [],
   "source": [
    "#FEATURE ENGINEERING ---- creating  a new column\n",
    "salesdata['total_years'] = 2017 - salesdata['Outlet_Establishment_Year']\n"
   ]
  },
  {
   "cell_type": "code",
   "execution_count": 195,
   "metadata": {
    "collapsed": false
   },
   "outputs": [],
   "source": [
    "#filling 0 with mean item visibility\n",
    "item_vis = salesdata.pivot_table(index = 'Item_Identifier' , values= 'Item_Visibility')\n",
    "salesdata.Item_Visibility=salesdata.loc[(salesdata['Item_Visibility'] ==0),'Item_Identifier'].apply(lambda x : item_vis[x])\n"
   ]
  },
  {
   "cell_type": "code",
   "execution_count": 196,
   "metadata": {
    "collapsed": false,
    "scrolled": true
   },
   "outputs": [
    {
     "name": "stdout",
     "output_type": "stream",
     "text": [
      "16\n"
     ]
    },
    {
     "data": {
      "text/plain": [
       "Fruits and Vegetables    2013\n",
       "Snack Foods              1989\n",
       "Household                1548\n",
       "Frozen Foods             1426\n",
       "Dairy                    1136\n",
       "Baking Goods             1086\n",
       "Canned                   1084\n",
       "Health and Hygiene        858\n",
       "Meat                      736\n",
       "Soft Drinks               726\n",
       "Breads                    416\n",
       "Hard Drinks               362\n",
       "Others                    280\n",
       "Starchy Foods             269\n",
       "Breakfast                 186\n",
       "Seafood                    89\n",
       "Name: Item_Type, dtype: int64"
      ]
     },
     "execution_count": 196,
     "metadata": {},
     "output_type": "execute_result"
    }
   ],
   "source": [
    "print(len(salesdata['Item_Type'].unique()))\n",
    "salesdata['Item_Type'].value_counts()"
   ]
  },
  {
   "cell_type": "code",
   "execution_count": 197,
   "metadata": {
    "collapsed": false
   },
   "outputs": [
    {
     "data": {
      "text/html": [
       "<div>\n",
       "<table border=\"1\" class=\"dataframe\">\n",
       "  <thead>\n",
       "    <tr style=\"text-align: right;\">\n",
       "      <th></th>\n",
       "      <th>Item_Fat_Content</th>\n",
       "      <th>Item_Identifier</th>\n",
       "      <th>Item_MRP</th>\n",
       "      <th>Item_Outlet_Sales</th>\n",
       "      <th>Item_Type</th>\n",
       "      <th>Item_Visibility</th>\n",
       "      <th>Item_Weight</th>\n",
       "      <th>Outlet_Establishment_Year</th>\n",
       "      <th>Outlet_Identifier</th>\n",
       "      <th>Outlet_Location_Type</th>\n",
       "      <th>Outlet_Size</th>\n",
       "      <th>Outlet_Type</th>\n",
       "      <th>source</th>\n",
       "      <th>total_years</th>\n",
       "    </tr>\n",
       "  </thead>\n",
       "  <tbody>\n",
       "    <tr>\n",
       "      <th>0</th>\n",
       "      <td>Low Fat</td>\n",
       "      <td>FDA15</td>\n",
       "      <td>249.8092</td>\n",
       "      <td>3735.1380</td>\n",
       "      <td>Dairy</td>\n",
       "      <td>NaN</td>\n",
       "      <td>9.30</td>\n",
       "      <td>1999</td>\n",
       "      <td>OUT049</td>\n",
       "      <td>Tier 1</td>\n",
       "      <td>0.0</td>\n",
       "      <td>Supermarket Type1</td>\n",
       "      <td>train</td>\n",
       "      <td>18</td>\n",
       "    </tr>\n",
       "    <tr>\n",
       "      <th>1</th>\n",
       "      <td>Regular</td>\n",
       "      <td>DRC01</td>\n",
       "      <td>48.2692</td>\n",
       "      <td>443.4228</td>\n",
       "      <td>Soft Drinks</td>\n",
       "      <td>NaN</td>\n",
       "      <td>5.92</td>\n",
       "      <td>2009</td>\n",
       "      <td>OUT018</td>\n",
       "      <td>Tier 3</td>\n",
       "      <td>0.0</td>\n",
       "      <td>Supermarket Type2</td>\n",
       "      <td>train</td>\n",
       "      <td>8</td>\n",
       "    </tr>\n",
       "    <tr>\n",
       "      <th>2</th>\n",
       "      <td>Low Fat</td>\n",
       "      <td>FDN15</td>\n",
       "      <td>141.6180</td>\n",
       "      <td>2097.2700</td>\n",
       "      <td>Meat</td>\n",
       "      <td>NaN</td>\n",
       "      <td>17.50</td>\n",
       "      <td>1999</td>\n",
       "      <td>OUT049</td>\n",
       "      <td>Tier 1</td>\n",
       "      <td>0.0</td>\n",
       "      <td>Supermarket Type1</td>\n",
       "      <td>train</td>\n",
       "      <td>18</td>\n",
       "    </tr>\n",
       "    <tr>\n",
       "      <th>3</th>\n",
       "      <td>Regular</td>\n",
       "      <td>FDX07</td>\n",
       "      <td>182.0950</td>\n",
       "      <td>732.3800</td>\n",
       "      <td>Fruits and Vegetables</td>\n",
       "      <td>0.017834</td>\n",
       "      <td>19.20</td>\n",
       "      <td>1998</td>\n",
       "      <td>OUT010</td>\n",
       "      <td>Tier 3</td>\n",
       "      <td>2.0</td>\n",
       "      <td>Grocery Store</td>\n",
       "      <td>train</td>\n",
       "      <td>19</td>\n",
       "    </tr>\n",
       "    <tr>\n",
       "      <th>4</th>\n",
       "      <td>Low Fat</td>\n",
       "      <td>NCD19</td>\n",
       "      <td>53.8614</td>\n",
       "      <td>994.7052</td>\n",
       "      <td>Household</td>\n",
       "      <td>0.009780</td>\n",
       "      <td>8.93</td>\n",
       "      <td>1987</td>\n",
       "      <td>OUT013</td>\n",
       "      <td>Tier 3</td>\n",
       "      <td>1.0</td>\n",
       "      <td>Supermarket Type1</td>\n",
       "      <td>train</td>\n",
       "      <td>30</td>\n",
       "    </tr>\n",
       "  </tbody>\n",
       "</table>\n",
       "</div>"
      ],
      "text/plain": [
       "  Item_Fat_Content Item_Identifier  Item_MRP  Item_Outlet_Sales  \\\n",
       "0          Low Fat           FDA15  249.8092          3735.1380   \n",
       "1          Regular           DRC01   48.2692           443.4228   \n",
       "2          Low Fat           FDN15  141.6180          2097.2700   \n",
       "3          Regular           FDX07  182.0950           732.3800   \n",
       "4          Low Fat           NCD19   53.8614           994.7052   \n",
       "\n",
       "               Item_Type  Item_Visibility  Item_Weight  \\\n",
       "0                  Dairy              NaN         9.30   \n",
       "1            Soft Drinks              NaN         5.92   \n",
       "2                   Meat              NaN        17.50   \n",
       "3  Fruits and Vegetables         0.017834        19.20   \n",
       "4              Household         0.009780         8.93   \n",
       "\n",
       "   Outlet_Establishment_Year Outlet_Identifier Outlet_Location_Type  \\\n",
       "0                       1999            OUT049               Tier 1   \n",
       "1                       2009            OUT018               Tier 3   \n",
       "2                       1999            OUT049               Tier 1   \n",
       "3                       1998            OUT010               Tier 3   \n",
       "4                       1987            OUT013               Tier 3   \n",
       "\n",
       "   Outlet_Size        Outlet_Type source  total_years  \n",
       "0          0.0  Supermarket Type1  train           18  \n",
       "1          0.0  Supermarket Type2  train            8  \n",
       "2          0.0  Supermarket Type1  train           18  \n",
       "3          2.0      Grocery Store  train           19  \n",
       "4          1.0  Supermarket Type1  train           30  "
      ]
     },
     "execution_count": 197,
     "metadata": {},
     "output_type": "execute_result"
    }
   ],
   "source": [
    "salesdata.head()\n"
   ]
  },
  {
   "cell_type": "code",
   "execution_count": 198,
   "metadata": {
    "collapsed": false
   },
   "outputs": [
    {
     "data": {
      "text/plain": [
       "Consumable_Food    10201\n",
       "Non_Consumable      2686\n",
       "Drinking_Food       1317\n",
       "Name: represent_food, dtype: int64"
      ]
     },
     "execution_count": 198,
     "metadata": {},
     "output_type": "execute_result"
    }
   ],
   "source": [
    "rep_food ={'FD':'Consumable_Food','DR':'Drinking_Food','NC':'Non_Consumable'}\n",
    "salesdata['represent_food'] = salesdata.Item_Identifier.apply(lambda x : x[0:2]).map(lambda x: rep_food[x])\n",
    "salesdata.represent_food.value_counts()"
   ]
  },
  {
   "cell_type": "code",
   "execution_count": 199,
   "metadata": {
    "collapsed": false
   },
   "outputs": [],
   "source": [
    "'''le = LabelEncoder()\n",
    "salesdata['Outlet'] = le.fit_transform(salesdata['Outlet_Identifier'])\n",
    "all_variable= list(salesdata.columns.values)\n",
    "cat_data =[] \n",
    "index=0\n",
    "for i in salesdata.dtypes:\n",
    "    \n",
    "    if i == 'object' and all_variable[index] != 'Outlet_Identifier' and all_variable[index] != 'Item_Identifier'   :\n",
    "        cat_data.append(all_variable[index])\n",
    "    index = index+1\n",
    "print(cat_data)\n",
    "index=0\n",
    "le = LabelEncoder()\n",
    "for i in cat_data :\n",
    "    salesdata[i]= le.fit_transform(salesdata[i])\n",
    "   '''\n",
    "\n",
    "le = LabelEncoder()\n",
    "#New variable for outlet\n",
    "salesdata['Outlet'] = le.fit_transform(salesdata['Outlet_Identifier'])\n",
    "var_mod = ['Item_Fat_Content','Outlet_Location_Type','Outlet_Size','represent_food','Outlet_Type','Outlet']\n",
    "le = LabelEncoder()\n",
    "for i in var_mod:\n",
    "    salesdata[i] = le.fit_transform(salesdata[i])\n",
    "    \n",
    "#One Hot Coding:\n",
    "salesdata = pd.get_dummies(salesdata, columns=['Item_Fat_Content','Outlet_Location_Type','Outlet_Size','Outlet_Type',\n",
    "                              'represent_food','Outlet'])"
   ]
  },
  {
   "cell_type": "code",
   "execution_count": null,
   "metadata": {
    "collapsed": false
   },
   "outputs": [],
   "source": []
  },
  {
   "cell_type": "code",
   "execution_count": 200,
   "metadata": {
    "collapsed": false,
    "scrolled": true
   },
   "outputs": [
    {
     "data": {
      "text/plain": [
       "<bound method Series.count of Item_Identifier               object\n",
       "Item_MRP                     float64\n",
       "Item_Outlet_Sales            float64\n",
       "Item_Type                     object\n",
       "Item_Visibility              float64\n",
       "Item_Weight                  float64\n",
       "Outlet_Establishment_Year      int64\n",
       "Outlet_Identifier             object\n",
       "source                        object\n",
       "total_years                    int64\n",
       "Item_Fat_Content_0           float64\n",
       "Item_Fat_Content_1           float64\n",
       "Outlet_Location_Type_0       float64\n",
       "Outlet_Location_Type_1       float64\n",
       "Outlet_Location_Type_2       float64\n",
       "Outlet_Size_0                float64\n",
       "Outlet_Size_1                float64\n",
       "Outlet_Size_2                float64\n",
       "Outlet_Type_0                float64\n",
       "Outlet_Type_1                float64\n",
       "Outlet_Type_2                float64\n",
       "Outlet_Type_3                float64\n",
       "represent_food_0             float64\n",
       "represent_food_1             float64\n",
       "represent_food_2             float64\n",
       "Outlet_0                     float64\n",
       "Outlet_1                     float64\n",
       "Outlet_2                     float64\n",
       "Outlet_3                     float64\n",
       "Outlet_4                     float64\n",
       "Outlet_5                     float64\n",
       "Outlet_6                     float64\n",
       "Outlet_7                     float64\n",
       "Outlet_8                     float64\n",
       "Outlet_9                     float64\n",
       "dtype: object>"
      ]
     },
     "execution_count": 200,
     "metadata": {},
     "output_type": "execute_result"
    }
   ],
   "source": [
    "\n",
    "salesdata.dtypes.count"
   ]
  },
  {
   "cell_type": "code",
   "execution_count": null,
   "metadata": {
    "collapsed": false
   },
   "outputs": [],
   "source": []
  },
  {
   "cell_type": "code",
   "execution_count": 201,
   "metadata": {
    "collapsed": false
   },
   "outputs": [
    {
     "name": "stderr",
     "output_type": "stream",
     "text": [
      "/home/prashant/anaconda3/lib/python3.5/site-packages/ipykernel/__main__.py:4: SettingWithCopyWarning: \n",
      "A value is trying to be set on a copy of a slice from a DataFrame\n",
      "\n",
      "See the caveats in the documentation: http://pandas.pydata.org/pandas-docs/stable/indexing.html#indexing-view-versus-copy\n",
      "/home/prashant/anaconda3/lib/python3.5/site-packages/ipykernel/__main__.py:5: SettingWithCopyWarning: \n",
      "A value is trying to be set on a copy of a slice from a DataFrame\n",
      "\n",
      "See the caveats in the documentation: http://pandas.pydata.org/pandas-docs/stable/indexing.html#indexing-view-versus-copy\n"
     ]
    }
   ],
   "source": [
    "train = salesdata.loc[salesdata['source']==\"train\"]\n",
    "test = salesdata.loc[salesdata['source']==\"test\"]\n",
    "\n",
    "test.drop(['Item_Outlet_Sales','source'],axis=1,inplace=True)\n",
    "train.drop(['source'],axis=1,inplace=True)\n",
    "\n",
    "train.to_csv(\"train_modified.csv\",index=False)\n",
    "test.to_csv(\"test_modified.csv\",index=False)"
   ]
  },
  {
   "cell_type": "code",
   "execution_count": 202,
   "metadata": {
    "collapsed": false
   },
   "outputs": [
    {
     "name": "stdout",
     "output_type": "stream",
     "text": [
      "2181.2889135750365\n"
     ]
    }
   ],
   "source": [
    "mean_sales = train['Item_Outlet_Sales'].mean()\n",
    "print(mean_sales)"
   ]
  },
  {
   "cell_type": "code",
   "execution_count": 203,
   "metadata": {
    "collapsed": false
   },
   "outputs": [
    {
     "name": "stderr",
     "output_type": "stream",
     "text": [
      "/home/prashant/anaconda3/lib/python3.5/site-packages/ipykernel/__main__.py:2: SettingWithCopyWarning: \n",
      "A value is trying to be set on a copy of a slice from a DataFrame.\n",
      "Try using .loc[row_indexer,col_indexer] = value instead\n",
      "\n",
      "See the caveats in the documentation: http://pandas.pydata.org/pandas-docs/stable/indexing.html#indexing-view-versus-copy\n",
      "  from ipykernel import kernelapp as app\n"
     ]
    }
   ],
   "source": [
    "base1 = test[['Item_Identifier','Outlet_Identifier']]\n",
    "base1['Item_Outlet_Sales'] = mean_sales\n",
    "\n",
    "base1.to_csv(\"/home/prashant/Desktop/competation/sol.csv\",index=False)"
   ]
  }
 ],
 "metadata": {
  "anaconda-cloud": {},
  "kernelspec": {
   "display_name": "Python [conda root]",
   "language": "python",
   "name": "conda-root-py"
  },
  "language_info": {
   "codemirror_mode": {
    "name": "ipython",
    "version": 3
   },
   "file_extension": ".py",
   "mimetype": "text/x-python",
   "name": "python",
   "nbconvert_exporter": "python",
   "pygments_lexer": "ipython3",
   "version": "3.5.2"
  }
 },
 "nbformat": 4,
 "nbformat_minor": 1
}
